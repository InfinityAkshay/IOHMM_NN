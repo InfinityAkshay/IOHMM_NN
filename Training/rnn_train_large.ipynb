{
 "cells": [
  {
   "cell_type": "code",
   "execution_count": 1,
   "metadata": {},
   "outputs": [],
   "source": [
    "import sys\n",
    "sys.path.append('..')\n",
    "\n",
    "from Model_Code.rnn_model import RNN\n",
    "from misc_fns import *\n",
    "\n",
    "import torch\n",
    "import torch.optim as optim \n",
    "import torch.nn as nn\n",
    "\n",
    "import pandas as pd"
   ]
  },
  {
   "cell_type": "code",
   "execution_count": 2,
   "metadata": {},
   "outputs": [],
   "source": [
    "torch.manual_seed(0)\n",
    "torch.cuda.manual_seed_all(0)"
   ]
  },
  {
   "cell_type": "code",
   "execution_count": 3,
   "metadata": {},
   "outputs": [],
   "source": [
    "path = \"../Data/GOOGL.csv\"\n",
    "df = pd.read_csv(path)\n",
    "df['Date'] = pd.to_datetime(df['Date'])\n",
    "\n",
    "cutoff_date = pd.Timestamp('2020-01-01')\n",
    "train_df = df[df['Date'] < cutoff_date]"
   ]
  },
  {
   "cell_type": "code",
   "execution_count": 4,
   "metadata": {},
   "outputs": [],
   "source": [
    "inputs, targets = get_dataset(train_df, window_size=3)"
   ]
  },
  {
   "cell_type": "code",
   "execution_count": 5,
   "metadata": {},
   "outputs": [],
   "source": [
    "input_dim  = inputs.size()[1]\n",
    "output_dim = targets.size()[1]\n",
    "hidden_dim = 5\n",
    "\n",
    "model = RNN(input_dim, hidden_dim, output_dim)"
   ]
  },
  {
   "cell_type": "code",
   "execution_count": 6,
   "metadata": {},
   "outputs": [],
   "source": [
    "optimizer = optim.Adam(model.parameters(), lr=0.1)\n",
    "loss_fn   = nn.MSELoss()\n",
    "num_epoch = 1000"
   ]
  },
  {
   "cell_type": "code",
   "execution_count": 7,
   "metadata": {},
   "outputs": [
    {
     "name": "stdout",
     "output_type": "stream",
     "text": [
      "Epoch 100, Loss: 130.24777221679688\n",
      "Epoch 200, Loss: 113.7639389038086\n",
      "Epoch 300, Loss: 109.3334732055664\n",
      "Epoch 400, Loss: 104.58751678466797\n",
      "Epoch 500, Loss: 99.81898498535156\n",
      "Epoch 600, Loss: 95.23387908935547\n",
      "Epoch 700, Loss: 90.9697265625\n",
      "Epoch 800, Loss: 87.10789489746094\n",
      "Epoch 900, Loss: 83.68437957763672\n",
      "Epoch 1000, Loss: 80.70047760009766\n"
     ]
    }
   ],
   "source": [
    "optimize(model, inputs, targets, optimizer, loss_fn, num_epochs=num_epoch)"
   ]
  },
  {
   "cell_type": "code",
   "execution_count": 8,
   "metadata": {},
   "outputs": [],
   "source": [
    "torch.save(model, \"../Model/rnn_large.pth\")"
   ]
  }
 ],
 "metadata": {
  "kernelspec": {
   "display_name": "Python 3",
   "language": "python",
   "name": "python3"
  },
  "language_info": {
   "codemirror_mode": {
    "name": "ipython",
    "version": 3
   },
   "file_extension": ".py",
   "mimetype": "text/x-python",
   "name": "python",
   "nbconvert_exporter": "python",
   "pygments_lexer": "ipython3",
   "version": "3.12.4"
  }
 },
 "nbformat": 4,
 "nbformat_minor": 2
}
