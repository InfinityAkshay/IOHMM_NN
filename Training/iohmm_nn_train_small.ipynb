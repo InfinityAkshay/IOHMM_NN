{
 "cells": [
  {
   "cell_type": "code",
   "execution_count": 1,
   "metadata": {},
   "outputs": [],
   "source": [
    "import sys\n",
    "sys.path.append('..')\n",
    "\n",
    "from Model_Code.iohmm_nn_model import IOHMM_NN\n",
    "from misc_fns import *\n",
    "\n",
    "import torch\n",
    "import torch.optim as optim\n",
    "import torch.nn as nn\n",
    "\n",
    "import pandas as pd"
   ]
  },
  {
   "cell_type": "code",
   "execution_count": 2,
   "metadata": {},
   "outputs": [],
   "source": [
    "torch.manual_seed(0)\n",
    "torch.cuda.manual_seed_all(0)"
   ]
  },
  {
   "cell_type": "code",
   "execution_count": 3,
   "metadata": {},
   "outputs": [],
   "source": [
    "inputs = torch.randn(100, 1)\n",
    "state  = 0"
   ]
  },
  {
   "cell_type": "code",
   "execution_count": 4,
   "metadata": {},
   "outputs": [],
   "source": [
    "targets = []\n",
    "for input in inputs:\n",
    "    prob = torch.sigmoid(input)\n",
    "    change = torch.bernoulli(prob).item()\n",
    "    if change:\n",
    "        state = 1 - state\n",
    "    \n",
    "    output = input * 5 * (1 - 2*state)\n",
    "    targets.append([output])\n",
    "\n",
    "targets = torch.tensor(targets, dtype=torch.float32)"
   ]
  },
  {
   "cell_type": "code",
   "execution_count": 5,
   "metadata": {},
   "outputs": [],
   "source": [
    "input_dim  = 1\n",
    "output_dim = 1\n",
    "num_states = 2\n",
    "\n",
    "model = IOHMM_NN(input_dim, output_dim, num_states=num_states, add_bias = False)"
   ]
  },
  {
   "cell_type": "code",
   "execution_count": 6,
   "metadata": {},
   "outputs": [],
   "source": [
    "optimizer = optim.Adam(model.parameters(), lr=0.1)\n",
    "loss_fn   = nn.MSELoss()"
   ]
  },
  {
   "cell_type": "code",
   "execution_count": 7,
   "metadata": {},
   "outputs": [
    {
     "name": "stdout",
     "output_type": "stream",
     "text": [
      "Epoch 100, Loss: 22.125307083129883\n",
      "Epoch 200, Loss: 22.034818649291992\n",
      "Epoch 300, Loss: 22.018783569335938\n",
      "Epoch 400, Loss: 22.01709747314453\n",
      "Epoch 500, Loss: 21.99692153930664\n",
      "Epoch 600, Loss: 22.003896713256836\n",
      "Epoch 700, Loss: 21.983448028564453\n",
      "Epoch 800, Loss: 21.9796199798584\n",
      "Epoch 900, Loss: 21.976356506347656\n",
      "Epoch 1000, Loss: 21.975370407104492\n"
     ]
    }
   ],
   "source": [
    "optimize(model, inputs, targets, optimizer, loss_fn)"
   ]
  },
  {
   "cell_type": "code",
   "execution_count": 8,
   "metadata": {},
   "outputs": [],
   "source": [
    "torch.save(model, \"../Model/iohmm_nn_small.pth\")"
   ]
  },
  {
   "cell_type": "code",
   "execution_count": 9,
   "metadata": {},
   "outputs": [
    {
     "data": {
      "text/plain": [
       "Parameter containing:\n",
       "tensor([[[ 7.9155],\n",
       "         [-6.3014]]], requires_grad=True)"
      ]
     },
     "execution_count": 9,
     "metadata": {},
     "output_type": "execute_result"
    }
   ],
   "source": [
    "model.W_x"
   ]
  }
 ],
 "metadata": {
  "kernelspec": {
   "display_name": "Python 3",
   "language": "python",
   "name": "python3"
  },
  "language_info": {
   "codemirror_mode": {
    "name": "ipython",
    "version": 3
   },
   "file_extension": ".py",
   "mimetype": "text/x-python",
   "name": "python",
   "nbconvert_exporter": "python",
   "pygments_lexer": "ipython3",
   "version": "3.12.4"
  }
 },
 "nbformat": 4,
 "nbformat_minor": 2
}
