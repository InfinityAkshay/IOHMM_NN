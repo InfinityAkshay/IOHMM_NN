{
 "cells": [
  {
   "cell_type": "code",
   "execution_count": 2,
   "metadata": {},
   "outputs": [],
   "source": [
    "import sys\n",
    "sys.path.append('..')\n",
    "\n",
    "from Model_Code.iohmm_nn_model import IOHMM_NN\n",
    "from misc_fns import *\n",
    "\n",
    "import torch\n",
    "import torch.optim as optim\n",
    "import torch.nn as nn\n",
    "import torch.nn.functional as F\n",
    "\n",
    "import pandas as pd"
   ]
  },
  {
   "cell_type": "code",
   "execution_count": 3,
   "metadata": {},
   "outputs": [],
   "source": [
    "torch.manual_seed(0)\n",
    "torch.cuda.manual_seed_all(0)"
   ]
  },
  {
   "cell_type": "code",
   "execution_count": 4,
   "metadata": {},
   "outputs": [],
   "source": [
    "inputs = torch.randn(1000, 1)\n",
    "state = 0"
   ]
  },
  {
   "cell_type": "code",
   "execution_count": 5,
   "metadata": {},
   "outputs": [],
   "source": [
    "targets = []\n",
    "for input in inputs:\n",
    "    prob = torch.sigmoid(input)\n",
    "    change = (torch.rand(1) < prob).item()\n",
    "    if change:\n",
    "        state = 1 - state\n",
    "    \n",
    "    output = input * 5 * (1 - 2*state)\n",
    "    targets.append([output])\n",
    "\n",
    "targets = torch.tensor(targets, dtype=torch.float32)"
   ]
  },
  {
   "cell_type": "code",
   "execution_count": 6,
   "metadata": {},
   "outputs": [],
   "source": [
    "input_dim  = 1\n",
    "output_dim = 1\n",
    "num_states = 2\n",
    "\n",
    "model = IOHMM_NN(input_dim, output_dim, num_states=num_states, add_bias = False)"
   ]
  },
  {
   "cell_type": "code",
   "execution_count": 7,
   "metadata": {},
   "outputs": [],
   "source": [
    "optimizer = optim.Adam(model.parameters(), lr=0.1)\n",
    "loss_fn   = nn.MSELoss()"
   ]
  },
  {
   "cell_type": "code",
   "execution_count": 8,
   "metadata": {},
   "outputs": [
    {
     "name": "stdout",
     "output_type": "stream",
     "text": [
      "Epoch 100, Loss: 26.082406997680664\n",
      "Epoch 200, Loss: 26.072418212890625\n",
      "Epoch 300, Loss: 26.069042205810547\n",
      "Epoch 400, Loss: 26.06932830810547\n",
      "Epoch 500, Loss: 26.067367553710938\n",
      "Epoch 600, Loss: 26.068355560302734\n",
      "Epoch 700, Loss: 26.067089080810547\n",
      "Epoch 800, Loss: 26.0670108795166\n",
      "Epoch 900, Loss: 26.067035675048828\n",
      "Epoch 1000, Loss: 26.066688537597656\n"
     ]
    }
   ],
   "source": [
    "optimize(model, inputs, targets, optimizer, loss_fn)"
   ]
  },
  {
   "cell_type": "code",
   "execution_count": 9,
   "metadata": {},
   "outputs": [],
   "source": [
    "torch.save(model, \"../Model/iohmm_nn_small.pth\")"
   ]
  },
  {
   "cell_type": "code",
   "execution_count": 10,
   "metadata": {},
   "outputs": [
    {
     "data": {
      "text/plain": [
       "(tensor([[ 0.3053],\n",
       "         [-0.0069]], grad_fn=<SliceBackward0>),\n",
       " tensor([[-0.4369],\n",
       "         [-0.3805]], grad_fn=<SliceBackward0>))"
      ]
     },
     "execution_count": 10,
     "metadata": {},
     "output_type": "execute_result"
    }
   ],
   "source": [
    "model.W_z[:,0,:], model.W_z[:,1,:]"
   ]
  },
  {
   "cell_type": "code",
   "execution_count": 11,
   "metadata": {},
   "outputs": [
    {
     "data": {
      "text/plain": [
       "(4.885567665100098, -4.956416606903076)"
      ]
     },
     "execution_count": 11,
     "metadata": {},
     "output_type": "execute_result"
    }
   ],
   "source": [
    "model.W_x[:,0,:].item(), model.W_x[:,1,:].item()"
   ]
  },
  {
   "cell_type": "code",
   "execution_count": 12,
   "metadata": {},
   "outputs": [
    {
     "data": {
      "text/plain": [
       "Parameter containing:\n",
       "tensor([[-1.7116],\n",
       "        [ 0.9817]], requires_grad=True)"
      ]
     },
     "execution_count": 12,
     "metadata": {},
     "output_type": "execute_result"
    }
   ],
   "source": [
    "model.W_pi"
   ]
  },
  {
   "cell_type": "code",
   "execution_count": 16,
   "metadata": {},
   "outputs": [
    {
     "data": {
      "text/plain": [
       "(-1.1258398294448853,\n",
       " tensor([[0.9540],\n",
       "         [0.0460]], grad_fn=<SoftmaxBackward0>))"
      ]
     },
     "execution_count": 16,
     "metadata": {},
     "output_type": "execute_result"
    }
   ],
   "source": [
    "inputs[0].item(), F.softmax(model.W_pi*inputs[0].item(), dim=0)"
   ]
  },
  {
   "cell_type": "code",
   "execution_count": 14,
   "metadata": {},
   "outputs": [
    {
     "data": {
      "text/plain": [
       "(0.3122044503688812, -0.05640628933906555)"
      ]
     },
     "execution_count": 14,
     "metadata": {},
     "output_type": "execute_result"
    }
   ],
   "source": [
    "((model.W_z[0,0,0] - model.W_z[1,0,0]).item(),\n",
    " (model.W_z[0,1,0] - model.W_z[1,1,0]).item())"
   ]
  }
 ],
 "metadata": {
  "kernelspec": {
   "display_name": "Python 3",
   "language": "python",
   "name": "python3"
  },
  "language_info": {
   "codemirror_mode": {
    "name": "ipython",
    "version": 3
   },
   "file_extension": ".py",
   "mimetype": "text/x-python",
   "name": "python",
   "nbconvert_exporter": "python",
   "pygments_lexer": "ipython3",
   "version": "3.12.4"
  }
 },
 "nbformat": 4,
 "nbformat_minor": 2
}
