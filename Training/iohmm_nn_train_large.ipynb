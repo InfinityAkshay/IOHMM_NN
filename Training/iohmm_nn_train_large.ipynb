{
 "cells": [
  {
   "cell_type": "code",
   "execution_count": null,
   "metadata": {},
   "outputs": [],
   "source": [
    "import sys\n",
    "sys.path.append('..')\n",
    "\n",
    "from Model_Code.iohmm_nn_model import IOHMM_NN\n",
    "from misc_fns import *\n",
    "   \n",
    "import torch\n",
    "import torch.optim as optim    \n",
    "import torch.nn as nn\n",
    "\n",
    "import pandas as pd"
   ]
  },
  {
   "cell_type": "code",
   "execution_count": 2,
   "metadata": {},
   "outputs": [],
   "source": [
    "torch.manual_seed(0)\n",
    "torch.cuda.manual_seed_all(0)"
   ]
  },
  {
   "cell_type": "code",
   "execution_count": 3,
   "metadata": {},
   "outputs": [],
   "source": [
    "path = \"../Data/GOOGL.csv\"\n",
    "df = pd.read_csv(path)\n",
    "df['Date'] = pd.to_datetime(df['Date'])\n",
    "\n",
    "cutoff_date = pd.Timestamp('2020-01-01')\n",
    "train_df = df[df['Date'] < cutoff_date]"
   ]
  },
  {
   "cell_type": "code",
   "execution_count": 4,
   "metadata": {},
   "outputs": [],
   "source": [
    "inputs, targets = get_dataset(train_df, window_size=3)"
   ]
  },
  {
   "cell_type": "code",
   "execution_count": 5,
   "metadata": {},
   "outputs": [],
   "source": [
    "input_dim  = inputs.size()[1]\n",
    "output_dim = targets.size()[1]\n",
    "num_states = 5\n",
    "\n",
    "model = IOHMM_NN(input_dim, output_dim, num_states=num_states)"
   ]
  },
  {
   "cell_type": "code",
   "execution_count": 6,
   "metadata": {},
   "outputs": [],
   "source": [
    "optimizer = optim.Adam(model.parameters(), lr=0.1)\n",
    "loss_fn   = nn.MSELoss()\n",
    "num_epoch = 1000"
   ]
  },
  {
   "cell_type": "code",
   "execution_count": 7,
   "metadata": {},
   "outputs": [
    {
     "name": "stdout",
     "output_type": "stream",
     "text": [
      "Epoch 100, Loss: 662.1705932617188\n",
      "Epoch 200, Loss: 560.4691772460938\n",
      "Epoch 300, Loss: 548.7476806640625\n",
      "Epoch 400, Loss: 535.0994873046875\n",
      "Epoch 500, Loss: 519.983642578125\n",
      "Epoch 600, Loss: 503.7659606933594\n",
      "Epoch 700, Loss: 486.75396728515625\n",
      "Epoch 800, Loss: 469.21282958984375\n",
      "Epoch 900, Loss: 451.3742980957031\n",
      "Epoch 1000, Loss: 433.4397277832031\n"
     ]
    }
   ],
   "source": [
    "optimize(model, inputs, targets, optimizer, loss_fn, num_epochs=num_epoch)"
   ]
  },
  {
   "cell_type": "code",
   "execution_count": 8,
   "metadata": {},
   "outputs": [],
   "source": [
    "torch.save(model, \"../Model/iohmm_nn_large.pth\")"
   ]
  }
 ],
 "metadata": {
  "kernelspec": {
   "display_name": "Python 3",
   "language": "python",
   "name": "python3"
  },
  "language_info": {
   "codemirror_mode": {
    "name": "ipython",
    "version": 3
   },
   "file_extension": ".py",
   "mimetype": "text/x-python",
   "name": "python",
   "nbconvert_exporter": "python",
   "pygments_lexer": "ipython3",
   "version": "3.12.4"
  }
 },
 "nbformat": 4,
 "nbformat_minor": 2
}
