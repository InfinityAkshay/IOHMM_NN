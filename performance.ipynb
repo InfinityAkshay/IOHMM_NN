{
 "cells": [
  {
   "cell_type": "code",
   "execution_count": 1,
   "metadata": {},
   "outputs": [],
   "source": [
    "import pandas as pd\n",
    "\n",
    "from Model_Code.iohmm_nn_model import IOHMM_NN\n",
    "from Model_Code.rnn_model import RNN\n",
    "from misc_fns import *\n",
    "                                                                                           \n",
    "import torch"
   ]
  },
  {
   "cell_type": "code",
   "execution_count": 2,
   "metadata": {},
   "outputs": [],
   "source": [
    "iohmm = torch.load(\"Model/iohmm_nn_large.pth\", weights_only=False)\n",
    "rnn   = torch.load(\"Model/rnn_large.pth\",      weights_only=False)"
   ]
  },
  {
   "cell_type": "code",
   "execution_count": 3,
   "metadata": {},
   "outputs": [],
   "source": [
    "path = \"Data/GOOGL.csv\"\n",
    "df = pd.read_csv(path)\n",
    "df['Date'] = pd.to_datetime(df['Date'])\n",
    "\n",
    "cutoff_date = pd.Timestamp('2020-01-01')\n",
    "train_df = df[df['Date'] < cutoff_date]\n",
    "test_df = df[df['Date'] >= cutoff_date]"
   ]
  },
  {
   "cell_type": "code",
   "execution_count": 4,
   "metadata": {},
   "outputs": [],
   "source": [
    "inputs_train, targets_train = get_dataset(train_df, window_size=3)\n",
    "inputs_test,  targets_test  = get_dataset(test_df,  window_size=3)"
   ]
  },
  {
   "cell_type": "code",
   "execution_count": 5,
   "metadata": {},
   "outputs": [],
   "source": [
    "rnn_train_preformance   = performance(rnn,   inputs_train, targets_train, torch.nn.MSELoss())\n",
    "rnn_test_performance    = performance(rnn,   inputs_test,  targets_test,  torch.nn.MSELoss())\n",
    "\n",
    "iohmm_train_performance = performance(iohmm, inputs_train, targets_train, torch.nn.MSELoss())\n",
    "iohmm_test_performance  = performance(iohmm, inputs_test,  targets_test,  torch.nn.MSELoss())"
   ]
  },
  {
   "cell_type": "code",
   "execution_count": 6,
   "metadata": {},
   "outputs": [],
   "source": [
    "import pandas as pd\n",
    "\n",
    "# Extract loss and r_square values from the performance dictionaries\n",
    "loss_data = {\n",
    "    'train': [iohmm_train_performance['loss'], rnn_train_preformance['loss']],\n",
    "    'test': [iohmm_test_performance['loss'], rnn_test_performance['loss']]\n",
    "}\n",
    "\n",
    "r_square_data = {\n",
    "    'train': [iohmm_train_performance['r_square'], rnn_train_preformance['r_square']],\n",
    "    'test': [iohmm_test_performance['r_square'], rnn_test_performance['r_square']]\n",
    "}\n",
    "\n",
    "# Create punnet squares as DataFrames\n",
    "loss_df = pd.DataFrame(loss_data, index=['iohmm', 'rnn']).transpose()\n",
    "r_square_df = pd.DataFrame(r_square_data, index=['iohmm', 'rnn']).transpose() * 100"
   ]
  },
  {
   "cell_type": "code",
   "execution_count": 7,
   "metadata": {},
   "outputs": [
    {
     "data": {
      "text/html": [
       "<div>\n",
       "<style scoped>\n",
       "    .dataframe tbody tr th:only-of-type {\n",
       "        vertical-align: middle;\n",
       "    }\n",
       "\n",
       "    .dataframe tbody tr th {\n",
       "        vertical-align: top;\n",
       "    }\n",
       "\n",
       "    .dataframe thead th {\n",
       "        text-align: right;\n",
       "    }\n",
       "</style>\n",
       "<table border=\"1\" class=\"dataframe\">\n",
       "  <thead>\n",
       "    <tr style=\"text-align: right;\">\n",
       "      <th></th>\n",
       "      <th>iohmm</th>\n",
       "      <th>rnn</th>\n",
       "    </tr>\n",
       "  </thead>\n",
       "  <tbody>\n",
       "    <tr>\n",
       "      <th>train</th>\n",
       "      <td>433.260529</td>\n",
       "      <td>80.672798</td>\n",
       "    </tr>\n",
       "    <tr>\n",
       "      <th>test</th>\n",
       "      <td>7770.721191</td>\n",
       "      <td>1374.044189</td>\n",
       "    </tr>\n",
       "  </tbody>\n",
       "</table>\n",
       "</div>"
      ],
      "text/plain": [
       "             iohmm          rnn\n",
       "train   433.260529    80.672798\n",
       "test   7770.721191  1374.044189"
      ]
     },
     "execution_count": 7,
     "metadata": {},
     "output_type": "execute_result"
    }
   ],
   "source": [
    "loss_df"
   ]
  },
  {
   "cell_type": "code",
   "execution_count": 8,
   "metadata": {},
   "outputs": [
    {
     "data": {
      "text/html": [
       "<div>\n",
       "<style scoped>\n",
       "    .dataframe tbody tr th:only-of-type {\n",
       "        vertical-align: middle;\n",
       "    }\n",
       "\n",
       "    .dataframe tbody tr th {\n",
       "        vertical-align: top;\n",
       "    }\n",
       "\n",
       "    .dataframe thead th {\n",
       "        text-align: right;\n",
       "    }\n",
       "</style>\n",
       "<table border=\"1\" class=\"dataframe\">\n",
       "  <thead>\n",
       "    <tr style=\"text-align: right;\">\n",
       "      <th></th>\n",
       "      <th>iohmm</th>\n",
       "      <th>rnn</th>\n",
       "    </tr>\n",
       "  </thead>\n",
       "  <tbody>\n",
       "    <tr>\n",
       "      <th>train</th>\n",
       "      <td>99.630970</td>\n",
       "      <td>99.931288</td>\n",
       "    </tr>\n",
       "    <tr>\n",
       "      <th>test</th>\n",
       "      <td>97.779745</td>\n",
       "      <td>99.607408</td>\n",
       "    </tr>\n",
       "  </tbody>\n",
       "</table>\n",
       "</div>"
      ],
      "text/plain": [
       "           iohmm        rnn\n",
       "train  99.630970  99.931288\n",
       "test   97.779745  99.607408"
      ]
     },
     "execution_count": 8,
     "metadata": {},
     "output_type": "execute_result"
    }
   ],
   "source": [
    "r_square_df"
   ]
  }
 ],
 "metadata": {
  "kernelspec": {
   "display_name": "Python 3",
   "language": "python",
   "name": "python3"
  },
  "language_info": {
   "codemirror_mode": {
    "name": "ipython",
    "version": 3
   },
   "file_extension": ".py",
   "mimetype": "text/x-python",
   "name": "python",
   "nbconvert_exporter": "python",
   "pygments_lexer": "ipython3",
   "version": "3.12.4"
  }
 },
 "nbformat": 4,
 "nbformat_minor": 2
}
